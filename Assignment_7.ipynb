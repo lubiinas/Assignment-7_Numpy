{
 "cells": [
  {
   "cell_type": "markdown",
   "id": "d5e95389-d740-47bb-9706-71a369e58b4b",
   "metadata": {},
   "source": [
    "Exercise 1: (Score : 1) Create a numpy array containing the numbers from 1 to 10, and then reshape it to a 2x5 matrix."
   ]
  },
  {
   "cell_type": "code",
   "execution_count": 15,
   "id": "b913a329-f3f2-4dfb-9168-c75001aae3cc",
   "metadata": {},
   "outputs": [
    {
     "name": "stdout",
     "output_type": "stream",
     "text": [
      "[ 1  2  3  4  5  6  7  8  9 10]\n"
     ]
    }
   ],
   "source": [
    "import numpy as np\n",
    "arr1=np.arange(1,11)\n",
    "print(arr1)"
   ]
  },
  {
   "cell_type": "code",
   "execution_count": 16,
   "id": "7d465737-f50e-4f04-90e0-8042053b7155",
   "metadata": {},
   "outputs": [
    {
     "name": "stdout",
     "output_type": "stream",
     "text": [
      "2x5 matrix : [[ 1  2  3  4  5]\n",
      " [ 6  7  8  9 10]]\n"
     ]
    }
   ],
   "source": [
    "arr1=np.arange(1,11)\n",
    "matrix=arr1.reshape(2,5)\n",
    "print(\"2x5 matrix :\",matrix)"
   ]
  },
  {
   "cell_type": "markdown",
   "id": "b9f1a6b5-da85-4423-9936-6bbfeb4058f0",
   "metadata": {},
   "source": [
    "Exercise 2: (Score : 1) Create a numpy array containing the numbers from 1 to 20, and then extract the elements between the 5th and 15th index"
   ]
  },
  {
   "cell_type": "code",
   "execution_count": 18,
   "id": "f037348e-14d6-4ccf-a878-0da969535b22",
   "metadata": {},
   "outputs": [
    {
     "name": "stdout",
     "output_type": "stream",
     "text": [
      "[ 1  2  3  4  5  6  7  8  9 10 11 12 13 14 15 16 17 18 19 20]\n",
      "Extracted_elements: [ 6  7  8  9 10 11 12 13 14 15]\n"
     ]
    }
   ],
   "source": [
    "arr2=np.arange(1,21)\n",
    "print(arr2)\n",
    "Extracted_elements=arr2[5:15] \n",
    "print(\"Extracted_elements:\",Extracted_elements)\n"
   ]
  },
  {
   "cell_type": "markdown",
   "id": "7ce0b7f9-6028-4c8e-a79a-06cdc7f298bc",
   "metadata": {},
   "source": [
    "Exercise 3: (Score : 2) Create a Pandas series with the following data: {'apples': 3, 'bananas': 2, 'oranges': 1}. Then, add a new item to the series with the key 'pears' and the value 4"
   ]
  },
  {
   "cell_type": "code",
   "execution_count": 20,
   "id": "e11f48f8-b36f-43d0-bc30-6e1510101265",
   "metadata": {},
   "outputs": [
    {
     "name": "stdout",
     "output_type": "stream",
     "text": [
      "apples     3\n",
      "bananas    2\n",
      "oranges    1\n",
      "pears      4\n",
      "dtype: int64\n"
     ]
    }
   ],
   "source": [
    "import pandas as pd\n",
    "\n",
    "# Create a Pandas series\n",
    "fruit_series = pd.Series({'apples': 3, 'bananas': 2, 'oranges': 1})\n",
    "\n",
    "# Add a new item 'pears' with value 4\n",
    "fruit_series['pears'] = 4\n",
    "print(fruit_series)\n"
   ]
  },
  {
   "cell_type": "markdown",
   "id": "817f070c-15bd-4b96-a7cb-94cb960e7af2",
   "metadata": {},
   "source": [
    "Exercise 4: (Score : 2)\n",
    "Create a dataframe with the following columns: name, age, and gender. The dataframe should have 10 rows of data.\n"
   ]
  },
  {
   "cell_type": "code",
   "execution_count": 22,
   "id": "daadd792-fa8b-462c-94b9-ed92c819c83d",
   "metadata": {},
   "outputs": [
    {
     "name": "stdout",
     "output_type": "stream",
     "text": [
      "        name  age  gender\n",
      "0       John   28    Male\n",
      "1       Anna   22  Female\n",
      "2      Peter   34    Male\n",
      "3      Linda   29  Female\n",
      "4      James   40    Male\n",
      "5      Maria   35  Female\n",
      "6      David   45    Male\n",
      "7     Sophia   32  Female\n",
      "8    William   23    Male\n",
      "9  Charlotte   27  Female\n"
     ]
    }
   ],
   "source": [
    "# Create a dataframe with columns: name, age, and gender\n",
    "data = {\n",
    "    'name': ['John', 'Anna', 'Peter', 'Linda', 'James', 'Maria', 'David', 'Sophia', 'William', 'Charlotte'],\n",
    "    'age': [28, 22, 34, 29, 40, 35, 45, 32, 23, 27],\n",
    "    'gender': ['Male', 'Female', 'Male', 'Female', 'Male', 'Female', 'Male', 'Female', 'Male', 'Female']\n",
    "}\n",
    "\n",
    "df = pd.DataFrame(data)\n",
    "print(df)\n"
   ]
  },
  {
   "cell_type": "markdown",
   "id": "6c4f570d-b119-4ab2-8fce-32e502770456",
   "metadata": {},
   "source": [
    "Exercise 5: (Score : 1)\n",
    "Add a new column to the data frame created in question 1, called occupation. The values for this column should be Programmer, Manager, and Analyst, corresponding to the rows in the dataframe.\n"
   ]
  },
  {
   "cell_type": "code",
   "execution_count": 24,
   "id": "a48629a5-5bc7-4e14-8561-dc452481a4b3",
   "metadata": {},
   "outputs": [
    {
     "name": "stdout",
     "output_type": "stream",
     "text": [
      "        name  age  gender  occupation\n",
      "0       John   28    Male  Programmer\n",
      "1       Anna   22  Female     Manager\n",
      "2      Peter   34    Male     Analyst\n",
      "3      Linda   29  Female  Programmer\n",
      "4      James   40    Male     Manager\n",
      "5      Maria   35  Female     Analyst\n",
      "6      David   45    Male  Programmer\n",
      "7     Sophia   32  Female     Manager\n",
      "8    William   23    Male     Analyst\n",
      "9  Charlotte   27  Female  Programmer\n"
     ]
    }
   ],
   "source": [
    "# Add a new column 'occupation'\n",
    "df['occupation'] = ['Programmer', 'Manager', 'Analyst', 'Programmer', 'Manager', 'Analyst', 'Programmer', 'Manager', 'Analyst', 'Programmer']\n",
    "print(df)\n"
   ]
  },
  {
   "cell_type": "markdown",
   "id": "06dfd021-a7b4-420c-9bc6-d7c4bd463afc",
   "metadata": {},
   "source": [
    "Exercise 6: (Score : 1)\n",
    "Select the rows of the dataframe where the age is greater than or equal to 30.\n"
   ]
  },
  {
   "cell_type": "code",
   "execution_count": 26,
   "id": "97775d5e-7e89-48b3-bd40-a90a02980865",
   "metadata": {},
   "outputs": [
    {
     "name": "stdout",
     "output_type": "stream",
     "text": [
      "     name  age  gender  occupation\n",
      "2   Peter   34    Male     Analyst\n",
      "4   James   40    Male     Manager\n",
      "5   Maria   35  Female     Analyst\n",
      "6   David   45    Male  Programmer\n",
      "7  Sophia   32  Female     Manager\n"
     ]
    }
   ],
   "source": [
    "# Select rows where age is greater than or equal to 30\n",
    "age_filtered_df = df[df['age'] >= 30]\n",
    "print(age_filtered_df)\n"
   ]
  },
  {
   "cell_type": "markdown",
   "id": "97d6d9e4-a8cb-4fae-8e42-a99e72ec565b",
   "metadata": {},
   "source": [
    "Exercise 7: (Score : 2)\n",
    "Convert this dataframe to a csv file and read that csv file, finally display the contents.\n",
    "\n"
   ]
  },
  {
   "cell_type": "code",
   "execution_count": 28,
   "id": "a5e70d9f-5505-4caa-a618-1cee206ac922",
   "metadata": {},
   "outputs": [
    {
     "name": "stdout",
     "output_type": "stream",
     "text": [
      "        name  age  gender  occupation\n",
      "0       John   28    Male  Programmer\n",
      "1       Anna   22  Female     Manager\n",
      "2      Peter   34    Male     Analyst\n",
      "3      Linda   29  Female  Programmer\n",
      "4      James   40    Male     Manager\n",
      "5      Maria   35  Female     Analyst\n",
      "6      David   45    Male  Programmer\n",
      "7     Sophia   32  Female     Manager\n",
      "8    William   23    Male     Analyst\n",
      "9  Charlotte   27  Female  Programmer\n"
     ]
    }
   ],
   "source": [
    "# Convert the dataframe to a CSV file\n",
    "df.to_csv('people_data.csv', index=False)\n",
    "\n",
    "# Read the CSV file\n",
    "df_from_csv = pd.read_csv('people_data.csv')\n",
    "\n",
    "# Display the contents\n",
    "print(df_from_csv)\n"
   ]
  },
  {
   "cell_type": "code",
   "execution_count": null,
   "id": "d2795515-f224-4f2c-b2b1-51367e7f1e71",
   "metadata": {},
   "outputs": [],
   "source": []
  }
 ],
 "metadata": {
  "kernelspec": {
   "display_name": "Python 3 (ipykernel)",
   "language": "python",
   "name": "python3"
  },
  "language_info": {
   "codemirror_mode": {
    "name": "ipython",
    "version": 3
   },
   "file_extension": ".py",
   "mimetype": "text/x-python",
   "name": "python",
   "nbconvert_exporter": "python",
   "pygments_lexer": "ipython3",
   "version": "3.12.7"
  }
 },
 "nbformat": 4,
 "nbformat_minor": 5
}
